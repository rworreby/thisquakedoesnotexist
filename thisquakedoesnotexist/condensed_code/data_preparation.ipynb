{
 "cells": [
  {
   "cell_type": "code",
   "execution_count": null,
   "metadata": {},
   "outputs": [],
   "source": [
    "import h5py\n",
    "import numpy as np\n",
    "import pandas as pd\n",
    "import matplotlib.pyplot as plt\n",
    "import seaborn as sns\n",
    "\n",
    "from thisquakedoesnotexist.utils.preprocessor import Preprocessor"
   ]
  },
  {
   "cell_type": "code",
   "execution_count": null,
   "metadata": {},
   "outputs": [],
   "source": [
    "sns.set()\n",
    "input_file = '../data/japan/wforms_GAN_input_v20220805.h5'\n",
    "outfile = '../data/japan/downsampled.h5'\n",
    "waveforms_file = '../data/japan/waveforms.npy'\n",
    "attribute_file = '../data/japan/attributes.csv'"
   ]
  },
  {
   "cell_type": "code",
   "execution_count": null,
   "metadata": {},
   "outputs": [],
   "source": [
    "print('Loading ', input_file, ' ...')\n",
    "f = h5py.File(input_file,'r')"
   ]
  },
  {
   "cell_type": "code",
   "execution_count": null,
   "metadata": {},
   "outputs": [],
   "source": [
    "df = pd.DataFrame(f)"
   ]
  },
  {
   "cell_type": "code",
   "execution_count": null,
   "metadata": {},
   "outputs": [],
   "source": [
    "df"
   ]
  },
  {
   "cell_type": "code",
   "execution_count": null,
   "metadata": {},
   "outputs": [],
   "source": [
    "# initial time oaf recording\n",
    "time_ini_sec = 0.04\n",
    "# length of recording\n",
    "tt_wave_sec = 50.0\n",
    "sample_rate = 20.0\n",
    "\n",
    "\n",
    "# downssample factors\n",
    "factor = 5\n",
    "magnitude = 7.0"
   ]
  },
  {
   "cell_type": "code",
   "execution_count": null,
   "metadata": {},
   "outputs": [],
   "source": [
    "preprocessor = Preprocessor(input_file, outfile, time_ini_sec, tt_wave_sec, sample_rate)"
   ]
  },
  {
   "cell_type": "code",
   "execution_count": null,
   "metadata": {},
   "outputs": [],
   "source": [
    "preprocessor.downsample(factor, magnitude)"
   ]
  },
  {
   "cell_type": "code",
   "execution_count": null,
   "metadata": {},
   "outputs": [],
   "source": [
    "preprocessor.compute_pga()"
   ]
  },
  {
   "cell_type": "code",
   "execution_count": null,
   "metadata": {},
   "outputs": [],
   "source": [
    "preprocessor.save_to_files()"
   ]
  },
  {
   "attachments": {},
   "cell_type": "markdown",
   "metadata": {},
   "source": [
    "## Delete After Here"
   ]
  },
  {
   "cell_type": "code",
   "execution_count": null,
   "metadata": {},
   "outputs": [],
   "source": [
    "input_file = '../data/japan/wforms_GAN_input_v20220805.h5'\n",
    "outfile = '../data/japan/downsampled.h5'\n",
    "\n",
    "h5_file = h5py.File(input_file, \"r\")\n",
    "data = h5py.File(outfile, \"a\")\n",
    "\n",
    "n_obs = np.array(data['waveforms']).shape[0]\n",
    "\n",
    "df = pd.DataFrame({\n",
    "        'i_wf': np.arange(n_obs), # index for waveform\n",
    "        'dist': data['hypocentral_distance'][0, :],  \n",
    "        'ev_dep': data['hypocentre_depth'][0, :],\n",
    "        'hypocentre_latitude': data['hypocentre_latitude'][0, :],\n",
    "        'hypocentre_longitude': data['hypocentre_longitude'][0, :],\n",
    "        'is_shallow_crustal': data['is_shallow_crustal'][0, :],\n",
    "        'log10snr': data['log10snr'][0, :],\n",
    "        'mag': data['magnitude'][0, :],\n",
    "        'vs30': data['vs30'][0, :],\n",
    "        'pga_v': data['pga_v'][0, :],\n",
    "    })"
   ]
  },
  {
   "cell_type": "code",
   "execution_count": null,
   "metadata": {},
   "outputs": [],
   "source": [
    "df = df.loc[(df['is_shallow_crustal'] != 0)].reset_index(drop=True)"
   ]
  },
  {
   "cell_type": "code",
   "execution_count": null,
   "metadata": {},
   "outputs": [],
   "source": [
    "index = df['i_wf'].values\n",
    "data['waveforms'][index, :, :].shape"
   ]
  }
 ],
 "metadata": {
  "kernelspec": {
   "display_name": "quake_venv",
   "language": "python",
   "name": "python3"
  },
  "language_info": {
   "codemirror_mode": {
    "name": "ipython",
    "version": 3
   },
   "file_extension": ".py",
   "mimetype": "text/x-python",
   "name": "python",
   "nbconvert_exporter": "python",
   "pygments_lexer": "ipython3",
   "version": "3.10.6"
  },
  "orig_nbformat": 4
 },
 "nbformat": 4,
 "nbformat_minor": 2
}
