{
 "cells": [
  {
   "cell_type": "code",
   "execution_count": 1,
   "metadata": {},
   "outputs": [],
   "source": [
    "import h5py\n",
    "import numpy as np\n",
    "import pandas as pd\n",
    "import matplotlib.pyplot as plt\n",
    "import seaborn as sns\n",
    "from sklearn import preprocessing"
   ]
  },
  {
   "cell_type": "code",
   "execution_count": 3,
   "metadata": {},
   "outputs": [],
   "source": [
    "sns.set()\n",
    "input_file = '../data/japan/wforms_GAN_input_v20220805.h5'"
   ]
  },
  {
   "cell_type": "code",
   "execution_count": 4,
   "metadata": {},
   "outputs": [
    {
     "data": {
      "text/plain": [
       "<KeysViewHDF5 ['hypocentral_distance', 'hypocentre_depth', 'hypocentre_latitude', 'hypocentre_longitude', 'is_shallow_crustal', 'log10snr', 'magnitude', 'time_vector', 'vs30', 'waveforms']>"
      ]
     },
     "execution_count": 4,
     "metadata": {},
     "output_type": "execute_result"
    }
   ],
   "source": [
    "f = h5py.File(input_file,'r')\n",
    "f.keys()"
   ]
  },
  {
   "cell_type": "code",
   "execution_count": 11,
   "metadata": {},
   "outputs": [
    {
     "name": "stdout",
     "output_type": "stream",
     "text": [
      "hypocentral_distance\n",
      "hypocentre_depth\n",
      "hypocentre_latitude\n",
      "hypocentre_longitude\n",
      "is_shallow_crustal\n",
      "log10snr\n",
      "magnitude\n",
      "time_vector\n",
      "vs30\n",
      "waveforms\n",
      "<HDF5 dataset \"hypocentral_distance\": shape (1, 212598), type \"<f8\">\n",
      "<HDF5 dataset \"hypocentre_depth\": shape (1, 212598), type \"<f8\">\n",
      "<HDF5 dataset \"hypocentre_latitude\": shape (1, 212598), type \"<f8\">\n",
      "<HDF5 dataset \"hypocentre_longitude\": shape (1, 212598), type \"<f8\">\n",
      "<HDF5 dataset \"is_shallow_crustal\": shape (1, 212598), type \"<f8\">\n",
      "<HDF5 dataset \"log10snr\": shape (1, 212598), type \"<f8\">\n",
      "<HDF5 dataset \"magnitude\": shape (1, 212598), type \"<f8\">\n",
      "<HDF5 dataset \"time_vector\": shape (5501,), type \"<f8\">\n",
      "<HDF5 dataset \"vs30\": shape (1, 212598), type \"<f8\">\n",
      "<HDF5 dataset \"waveforms\": shape (3, 5501, 212598), type \"<f8\">\n",
      "('hypocentral_distance', <HDF5 dataset \"hypocentral_distance\": shape (1, 212598), type \"<f8\">)\n",
      "('hypocentre_depth', <HDF5 dataset \"hypocentre_depth\": shape (1, 212598), type \"<f8\">)\n",
      "('hypocentre_latitude', <HDF5 dataset \"hypocentre_latitude\": shape (1, 212598), type \"<f8\">)\n",
      "('hypocentre_longitude', <HDF5 dataset \"hypocentre_longitude\": shape (1, 212598), type \"<f8\">)\n",
      "('is_shallow_crustal', <HDF5 dataset \"is_shallow_crustal\": shape (1, 212598), type \"<f8\">)\n",
      "('log10snr', <HDF5 dataset \"log10snr\": shape (1, 212598), type \"<f8\">)\n",
      "('magnitude', <HDF5 dataset \"magnitude\": shape (1, 212598), type \"<f8\">)\n",
      "('time_vector', <HDF5 dataset \"time_vector\": shape (5501,), type \"<f8\">)\n",
      "('vs30', <HDF5 dataset \"vs30\": shape (1, 212598), type \"<f8\">)\n",
      "('waveforms', <HDF5 dataset \"waveforms\": shape (3, 5501, 212598), type \"<f8\">)\n",
      "HP_filter_freq_lo\n",
      "HP_filter_name\n",
      "HP_filter_order\n",
      "HP_filter_type\n",
      "component_order\n",
      "creation_date\n",
      "h5Dir\n",
      "hypo_dist_max\n",
      "hypo_dist_min\n",
      "magnitude_max\n",
      "magnitude_min\n",
      "matDir\n",
      "stationList\n"
     ]
    }
   ],
   "source": [
    "for el in [f.keys(), f.values(), f.items(), f.attrs]:\n",
    "    for e in el:\n",
    "        print(e)"
   ]
  },
  {
   "cell_type": "code",
   "execution_count": 12,
   "metadata": {},
   "outputs": [
    {
     "name": "stdout",
     "output_type": "stream",
     "text": [
      "HP_filter_freq_lo\n",
      "HP_filter_name\n",
      "HP_filter_order\n",
      "HP_filter_type\n",
      "component_order\n",
      "creation_date\n",
      "h5Dir\n",
      "hypo_dist_max\n",
      "hypo_dist_min\n",
      "magnitude_max\n",
      "magnitude_min\n",
      "matDir\n",
      "stationList\n"
     ]
    }
   ],
   "source": [
    "for attr in f.attrs:\n",
    "    print(attr)"
   ]
  },
  {
   "cell_type": "code",
   "execution_count": 26,
   "metadata": {},
   "outputs": [
    {
     "name": "stdout",
     "output_type": "stream",
     "text": [
      "HP_filter_freq_lo: [1.]\n",
      "HP_filter_name: Butterworth\n",
      "HP_filter_order: [2.]\n",
      "HP_filter_type: causal\n",
      "component_order: NEZ\n",
      "creation_date: 06-Aug-2022 00:14:53\n",
      "h5Dir: /scratch/memeier/data/general/japan/bosai22/dl20220725/arx20220730/proj/wfGAN/h5/new\n",
      "hypo_dist_max: [180.]\n",
      "hypo_dist_min: [0.]\n",
      "magnitude_max: [10.]\n",
      "magnitude_min: [4.5]\n",
      "matDir: /scratch/memeier/data/general/japan/bosai22/dl20220725/arx20220730/proj/wfGAN/out\n",
      "stationList: dat/site/sitepub_all_en.txt\n"
     ]
    }
   ],
   "source": [
    "def prt_attr(attr_name):\n",
    "    # print(f.attrs[attr_name].shape)\n",
    "    print(f.attrs[attr_name])\n",
    "\n",
    "\n",
    "for attr in f.attrs:\n",
    "    print(attr, end=': ')\n",
    "    prt_attr(attr)\n"
   ]
  },
  {
   "cell_type": "code",
   "execution_count": null,
   "metadata": {},
   "outputs": [],
   "source": [
    "magnitude_df = pd.DataFrame(f['magnitude'][0], columns=['magnitude'])"
   ]
  },
  {
   "cell_type": "code",
   "execution_count": null,
   "metadata": {},
   "outputs": [],
   "source": [
    "magnitude_df.describe()"
   ]
  },
  {
   "cell_type": "code",
   "execution_count": null,
   "metadata": {},
   "outputs": [],
   "source": [
    "sns.histplot(magnitude_df)"
   ]
  },
  {
   "cell_type": "code",
   "execution_count": null,
   "metadata": {},
   "outputs": [],
   "source": [
    "np.unique(magnitude_df)"
   ]
  },
  {
   "cell_type": "code",
   "execution_count": null,
   "metadata": {},
   "outputs": [],
   "source": [
    "dist_df = pd.DataFrame(f['hypocentral_distance'][0], columns=['hypocenter_dist'])\n",
    "# print(dist_df)\n",
    "\n",
    "combined_df = pd.concat([dist_df, magnitude_df], axis=1)\n",
    "combined_df"
   ]
  },
  {
   "cell_type": "code",
   "execution_count": null,
   "metadata": {},
   "outputs": [],
   "source": [
    "time_df = pd.DataFrame(f['time_vector'])\n",
    "time_df"
   ]
  },
  {
   "cell_type": "code",
   "execution_count": null,
   "metadata": {},
   "outputs": [],
   "source": [
    "wfs_0 = pd.DataFrame(wfs[:, 0, :])\n",
    "for i in range(2):\n",
    "    wfs_0.iloc[i].plot()\n",
    "    plt.show()"
   ]
  },
  {
   "cell_type": "code",
   "execution_count": null,
   "metadata": {},
   "outputs": [],
   "source": [
    "for val in np.unique(combined_df['magnitude']):\n",
    "    df = combined_df[combined_df['magnitude'] == val].sort_values('hypocenter_dist')\n",
    "    df.reset_index(inplace=True, drop=True)\n",
    "    # print(df)\n",
    "    df['hypocenter_dist'].plot()\n",
    "    plt.ylim(0, 180)\n",
    "    plt.show()\n",
    "    "
   ]
  },
  {
   "cell_type": "code",
   "execution_count": null,
   "metadata": {},
   "outputs": [],
   "source": [
    "mm_scaler = preprocessing.MinMaxScaler(feature_range=(-1, 1))"
   ]
  },
  {
   "cell_type": "code",
   "execution_count": null,
   "metadata": {},
   "outputs": [],
   "source": [
    "combined_df"
   ]
  },
  {
   "cell_type": "code",
   "execution_count": null,
   "metadata": {},
   "outputs": [],
   "source": [
    "for val in np.unique(combined_df['magnitude']):\n",
    "    single_quake_df = combined_df[combined_df['magnitude'] == val].sort_values('hypocenter_dist')\n",
    "    single_quake_df.reset_index(inplace=True)\n",
    "\n",
    "    fig, ax = plt.subplots(1, 1, figsize=(10, 10))\n",
    "\n",
    "    ds_val = 1\n",
    "    for i in single_quake_df['index'][::ds_val]:\n",
    "        dist = single_quake_df[single_quake_df['index'] == i]['hypocenter_dist'].iloc[0]\n",
    "        ax.plot(time_df, wfs[i, 0]+dist, color='k', lw=0.5)\n",
    "\n",
    "    plt.ylabel('Distance [km]')\n",
    "    plt.xlabel('Time [s]')\n",
    "    plt.ylim(0, 180)\n",
    "    plt.show()"
   ]
  }
 ],
 "metadata": {
  "kernelspec": {
   "display_name": "quake_venv",
   "language": "python",
   "name": "python3"
  },
  "language_info": {
   "codemirror_mode": {
    "name": "ipython",
    "version": 3
   },
   "file_extension": ".py",
   "mimetype": "text/x-python",
   "name": "python",
   "nbconvert_exporter": "python",
   "pygments_lexer": "ipython3",
   "version": "3.10.12"
  },
  "orig_nbformat": 4
 },
 "nbformat": 4,
 "nbformat_minor": 2
}
