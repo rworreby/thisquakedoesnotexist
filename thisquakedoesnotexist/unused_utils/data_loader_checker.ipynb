{
 "cells": [
  {
   "cell_type": "code",
   "execution_count": null,
   "metadata": {},
   "outputs": [],
   "source": [
    "import numpy as np\n",
    "import pandas as pd\n",
    "\n",
    "from thisquakedoesnotexist.condensed_code.dataUtils_v1 import SeisData"
   ]
  },
  {
   "cell_type": "code",
   "execution_count": null,
   "metadata": {},
   "outputs": [],
   "source": [
    "pd.set_option('display.max_rows', 50)"
   ]
  },
  {
   "cell_type": "code",
   "execution_count": null,
   "metadata": {},
   "outputs": [],
   "source": [
    "data_file = '../data/japan/waveforms.npy'\n",
    "attr_file = '../data/japan/attributes.csv'\n",
    "batch_size = 32\n",
    "sample_rate = 20\n",
    "\n",
    "condv_names = ['dist', 'mag', 'vs30']\n",
    "nbins_dict = {\n",
    "    'dist': 30,\n",
    "    'mag': 30,\n",
    "    'vs30': 20,\n",
    "}\n",
    "\n",
    "f = np.load(data_file)\n",
    "num_samples = len(f)\n",
    "del f\n",
    "\n",
    "# get all indexes\n",
    "ix_all = np.arange(num_samples)"
   ]
  },
  {
   "cell_type": "code",
   "execution_count": null,
   "metadata": {},
   "outputs": [],
   "source": [
    "sdat_train = SeisData(\n",
    "        data_file=data_file,\n",
    "        attr_file=attr_file,\n",
    "        batch_size=batch_size,\n",
    "        sample_rate=sample_rate,\n",
    "        v_names=condv_names,\n",
    "        nbins_d=nbins_dict,\n",
    "        isel=ix_all,\n",
    "    )"
   ]
  },
  {
   "cell_type": "code",
   "execution_count": null,
   "metadata": {},
   "outputs": [],
   "source": [
    "Nbatch = sdat_train.get_batch_size()\n",
    "# total number of batches\n",
    "N_train_btot = sdat_train.get_Nbatches_tot()\n",
    "\n",
    "print(f'Number of batches: {N_train_btot}, batchsize: {Nbatch}')"
   ]
  },
  {
   "cell_type": "code",
   "execution_count": null,
   "metadata": {},
   "outputs": [],
   "source": [
    "(data_b, i_vc) = sdat_train.get_rand_batch()"
   ]
  },
  {
   "cell_type": "code",
   "execution_count": null,
   "metadata": {},
   "outputs": [],
   "source": [
    "print(data_b.shape)\n",
    "df = pd.DataFrame(data_b.reshape(-1, 1000))\n",
    "df"
   ]
  },
  {
   "cell_type": "code",
   "execution_count": null,
   "metadata": {},
   "outputs": [],
   "source": [
    "for row in df.iterrows():\n",
    "    print(np.sum(np.abs(row[1])))\n",
    "\n",
    "df.loc[14]"
   ]
  },
  {
   "cell_type": "code",
   "execution_count": null,
   "metadata": {},
   "outputs": [],
   "source": [
    "a = np.ones(10)\n",
    "a[4] = np.NaN\n",
    "\n",
    "print(a)"
   ]
  },
  {
   "cell_type": "code",
   "execution_count": null,
   "metadata": {},
   "outputs": [],
   "source": [
    "np.nan_to_num(a, 0)"
   ]
  },
  {
   "cell_type": "code",
   "execution_count": null,
   "metadata": {},
   "outputs": [],
   "source": [
    "for i in i_vc:\n",
    "    print(i)"
   ]
  }
 ],
 "metadata": {
  "kernelspec": {
   "display_name": "quake_venv",
   "language": "python",
   "name": "python3"
  },
  "language_info": {
   "codemirror_mode": {
    "name": "ipython",
    "version": 3
   },
   "file_extension": ".py",
   "mimetype": "text/x-python",
   "name": "python",
   "nbconvert_exporter": "python",
   "pygments_lexer": "ipython3",
   "version": "3.10.12"
  },
  "orig_nbformat": 4
 },
 "nbformat": 4,
 "nbformat_minor": 2
}
